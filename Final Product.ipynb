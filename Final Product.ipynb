{
 "cells": [
  {
   "cell_type": "markdown",
   "metadata": {},
   "source": [
    "# Potrait Image Background removal"
   ]
  },
  {
   "cell_type": "code",
   "execution_count": 3,
   "metadata": {},
   "outputs": [],
   "source": [
    "from tkinter import *\n",
    "from tkinter import filedialog\n",
    "from tkinter import messagebox\n",
    "from PIL import ImageTk,Image\n",
    "from tensorflow.keras.models import load_model\n",
    "from keras.preprocessing import image\n",
    "from fileinput import filename\n",
    "import numpy as np\n",
    "from skimage.io import imread,imshow\n",
    "from skimage.transform import resize\n",
    "import tkinter as tk"
   ]
  },
  {
   "cell_type": "code",
   "execution_count": 7,
   "metadata": {},
   "outputs": [
    {
     "name": "stdout",
     "output_type": "stream",
     "text": [
      "\r",
      "1/1 [==============================] - 0s 437ms/sample\n"
     ]
    }
   ],
   "source": [
    "from tensorflow.keras.models import load_model\n",
    "model = load_model(\"model.h5\")\n",
    "\n",
    "def ShowImage1(X_Test1,pred):\n",
    "    for i in range(0,128):\n",
    "        for j in range(0,128):\n",
    "            for k in range(0,3):\n",
    "                if pred[0,i,j]==False:\n",
    "                    X_Test1[i,j,k]=255\n",
    "    return X_Test1 \n",
    "\n",
    "\n",
    "def open():\n",
    "    global filename\n",
    "\n",
    "    filename = filedialog.askopenfilename(title=\"open\",filetypes=((\"All\",\"*.*\"),(\"JPG\",\"*.jpg\"),(\"JPEG\",\"*.jpeg\"),(\"PNG\",\"*.png\")))\n",
    "   \n",
    "    img = imread(filename)[:,:,:3]\n",
    "    X=np.zeros((1,128,128,3),dtype=np.uint8)\n",
    "    img=resize(img,(128,128),mode='constant',preserve_range=True)\n",
    "    X[0] = img\n",
    "    img = Image.fromarray(X[0],\"RGB\")\n",
    "\n",
    "    img = img.resize((300,300))\n",
    "\n",
    "    img = ImageTk.PhotoImage(img)\n",
    "\n",
    "    panel1 = Label(root,image=img)\n",
    "    panel1.image = img\n",
    "    canvas1.create_window(300, 250, window=panel1)\n",
    "    remove()\n",
    "\n",
    "\n",
    "def remove():\n",
    "    predictImg1=imread(filename)[:,:,:3]\n",
    "\n",
    "    X=np.zeros((1,128,128,3),dtype=np.uint8)\n",
    "\n",
    "    img=resize(predictImg1,(128,128),mode='constant',preserve_range=True)\n",
    "    \n",
    "    X[0] = img\n",
    "\n",
    "    res = model.predict(X,verbose=1)\n",
    "\n",
    "    res=(res>0.5).astype(np.bool)\n",
    "\n",
    "    res1 = ShowImage1(X[0],res)\n",
    "\n",
    "    res1=Image.fromarray(res1,\"RGB\")\n",
    "\n",
    "    res1 = res1.resize((300,300))\n",
    "\n",
    "    res1 = ImageTk.PhotoImage(res1)\n",
    "    \n",
    "    panel2 = Label(root,image=res1)\n",
    "    panel2.image = res1\n",
    "    canvas1.create_window(700, 250, window=panel2)\n",
    "    \n",
    "    label2 = tk.Label(root, text='Before')\n",
    "    label2.config(font=('helvetica', 16, 'bold'))\n",
    "    canvas1.create_window(300, 75, window=label2)\n",
    "\n",
    "    label3 = tk.Label(root, text='After')\n",
    "    label3.config(font=('helvetica', 16, 'bold'))\n",
    "    canvas1.create_window(700, 75, window=label3)\n",
    "\n",
    "\n",
    "    \n",
    "\n",
    "root = tk.Tk()\n",
    "canvas1 = tk.Canvas(root, width=1000, height=550, relief='raised')\n",
    "canvas1.pack() \n",
    "\n",
    "label1 = tk.Label(root, text='Portrait image background removal')\n",
    "label1.config(font=('helvetica', 16, 'bold'))\n",
    "canvas1.create_window(500, 35, window=label1) \n",
    "\n",
    "searchButton = tk.Button(text='Select any image', command=open, bg='brown', fg='white',\n",
    "                    font=('helvetica', 9, 'bold'))\n",
    "canvas1.create_window(500, 450, window=searchButton)\n",
    "root.title(\"IMAGE BACKGROUND REMOVAL\")\n",
    "\n",
    "root.mainloop()"
   ]
  },
  {
   "cell_type": "code",
   "execution_count": null,
   "metadata": {},
   "outputs": [],
   "source": []
  },
  {
   "cell_type": "code",
   "execution_count": null,
   "metadata": {},
   "outputs": [],
   "source": []
  }
 ],
 "metadata": {
  "kernelspec": {
   "display_name": "Python 3",
   "language": "python",
   "name": "python3"
  },
  "language_info": {
   "codemirror_mode": {
    "name": "ipython",
    "version": 3
   },
   "file_extension": ".py",
   "mimetype": "text/x-python",
   "name": "python",
   "nbconvert_exporter": "python",
   "pygments_lexer": "ipython3",
   "version": "3.7.3"
  }
 },
 "nbformat": 4,
 "nbformat_minor": 4
}
